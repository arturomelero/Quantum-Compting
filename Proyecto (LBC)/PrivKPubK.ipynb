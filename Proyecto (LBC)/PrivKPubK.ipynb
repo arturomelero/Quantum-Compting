{
 "cells": [
  {
   "cell_type": "code",
   "execution_count": 37,
   "id": "bd97d2df-81d2-4ede-a9ef-c5cd2fc6175b",
   "metadata": {},
   "outputs": [],
   "source": [
    "import random\n",
    "\n",
    "def isprime(n):\n",
    "    if n%2 == 0:\n",
    "        return False\n",
    "    else:\n",
    "        i = 3\n",
    "        while i**2 < n:\n",
    "            if n% i == 0:\n",
    "                return False\n",
    "            i +=2\n",
    "        return True\n",
    "\n",
    "def sampleprime(n):\n",
    "    while True:\n",
    "        p = random.randint(1, 2**n)\n",
    "        if isprime(p):\n",
    "            return p"
   ]
  },
  {
   "cell_type": "markdown",
   "id": "c65f0ea9-c00f-4451-93ec-06c4cd5aa0d5",
   "metadata": {},
   "source": [
    "The second issue is that RSA (as presented above) is not secure. Cryptography has a minimal acceptable notion of security known as Indistinguishability under Chosen-Plaintext Attack. Among other things, this implies that you cannot tell if two ciphertexts are encryptions of the same message. But for the above “textbook RSA”, if you encrypt the same message twice, you get back the same ciphertext (encryption is deterministic). This is typically fixed by introducing a padding scheme, but these are both complex, and easy to get wrong (there have been many attacks in practice on improper RSA padding).\n",
    "\n",
    "So Textbook RSA is simple to describe, but moderately complex to implement in a way that is reasonably efficient for parameters people actually use, and quite complex to implement in a way that is known to be secure. RSA also has the issue that (even when properly padded) it is insecure against quantum computers, so once those develop further it’ll be insecure in all settings."
   ]
  },
  {
   "cell_type": "markdown",
   "id": "7a4bfe41-a368-4e9e-b83f-c6100d9ee010",
   "metadata": {},
   "source": [
    "<h2>LWE</h2>"
   ]
  },
  {
   "cell_type": "markdown",
   "id": "b947b742-0755-4d41-b2e9-2967d2e9215f",
   "metadata": {},
   "source": [
    "As we discussed before, Gaussian Elimination breaks noiseless LWE. How does introducing noise change things?"
   ]
  },
  {
   "cell_type": "code",
   "execution_count": null,
   "id": "0a00fc36-e7d2-4c32-9f92-94e85ad87d15",
   "metadata": {},
   "outputs": [],
   "source": [
    "import random\n",
    "from utils import *\n",
    "\n",
    "class LWEPrivKey:\n",
    "    def __init__(self, n, q, B):\n",
    "        self.n = n\n",
    "        self.q = q\n",
    "        self.B = B\n",
    "    def key_gen(self):\n",
    "        self.s = sample_unif_vector(self.n, self.q)\n",
    "    def enc(self, m):\n",
    "        # Sampling A, e\n",
    "        A = sample_unif_matrix(n, self.q)\n",
    "        e = sample_bounded_vector(self.n, self.B)\n",
    "        # Computing b:= As + e\n",
    "        b = matrix_vector_multiply(A, self.s, self.q)\n",
    "        b = vector_vector_add(b, e, self.q)\n",
    "        # Scaling m -> (q//2)m\n",
    "        scaled_m = [(self.q//2)*m[i] % self.q for i in range(self.n)]\n",
    "        # Adding (q//2)m to b = As + e\n",
    "        b = vector_vector_add(b, scaled_m, self.q)\n",
    "        return (A,b)\n",
    "    def dec(self, ctxt):\n",
    "        (A,b) = ctxt[0], ctxt[1]\n",
    "        # Recomputing As\n",
    "        As = matrix_vector_multiply(A, self.s, self.q)\n",
    "        # Recovering scaled_m = b - As\n",
    "        for i in range(self.n):\n",
    "            b[i] = (b[i] - As[i]) % q\n",
    "        # Scaling (q//2)m + e -> m\n",
    "        m = [0 for _ in range(self.n)]\n",
    "        for i in range(self.n):\n",
    "            m[i] = round(b[i] / (self.q//2)) % 2\n",
    "        return m"
   ]
  },
  {
   "cell_type": "code",
   "execution_count": null,
   "id": "86d702af-4b93-4bf3-965e-ea2ba0ed57a2",
   "metadata": {},
   "outputs": [],
   "source": [
    "class LWEPrivKey:\n",
    "    def __init__(self, n, q, B):\n",
    "        self.n = n\n",
    "        self.q = q\n",
    "        self.B = B\n",
    "        \n",
    "    def key_gen(self):\n",
    "        A = sample_unif_matrix(self.n, self.q)\n",
    "        self.sk = sample_bounded_vector(self.n, self.b)\n",
    "        As = matrix_vector_multiply(A, self.sk, self.q)\n",
    "        e = sample_bounded_vector(self.n, self.B)\n",
    "        b = vector_vector_add(As, e, self.q)\n",
    "        self.pk = (A,b)\n",
    "        \n",
    "    def enc(self, m):\n",
    "        (A,b) = self.pk\n",
    "        # Sampling r\n",
    "        r = sample_bounded_vector(self.n, self.B)\n",
    "        e_prime = sample_bounded_vector(self.n, self.B)\n",
    "        # Computing u := A^tr + e'\n",
    "        At = matrix_transpose(A)\n",
    "        u = matrix_vector_multiply(At, r, self.q)\n",
    "        u = vector_vector_add(u, e_prime, self.q)\n",
    "        # Approximately computing r^t(As)\n",
    "        rAs = vector_vector_inner_product(r, b, self.q)\n",
    "        # Adding e_double_prime so it is a LWE encryption\n",
    "        e_prime_prime = sample_bounded_vector(1, self.B)[0]\n",
    "        v = rAs + e_prime_prime % self.q\n",
    "        # Adding an encoding of m to the random pad\n",
    "        v = (v + (self.q//2)*m) % self.q\n",
    "        return (u,v)\n",
    "    def dec(self, ctxt):\n",
    "        (u, v) = ctxt[0], ctxt[1]\n",
    "        s = self.sk\n",
    "        # Approximately (r^tA)s\n",
    "        rAs = vector_vector_inner_product(r, b, self.q)\n",
    "        # Recomputing As\n",
    "        As = matrix_vector_multiply(u, s, self.q)\n",
    "        # Substracting rAs from v\n",
    "        v = (v - rAs) % self.q\n",
    "        # Deconding (q//2)*m + error_terms\n",
    "        return round(v/(self.q//2)) % 2"
   ]
  }
 ],
 "metadata": {
  "kernelspec": {
   "display_name": "Python 3 (ipykernel)",
   "language": "python",
   "name": "python3"
  },
  "language_info": {
   "codemirror_mode": {
    "name": "ipython",
    "version": 3
   },
   "file_extension": ".py",
   "mimetype": "text/x-python",
   "name": "python",
   "nbconvert_exporter": "python",
   "pygments_lexer": "ipython3",
   "version": "3.11.8"
  }
 },
 "nbformat": 4,
 "nbformat_minor": 5
}
